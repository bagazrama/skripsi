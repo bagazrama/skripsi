import cv2
import numpy as np
import matplotlib.pyplot as plt
import os

# Fungsi untuk membaca, meresize, dan menampilkan gambar
def read_resize_and_display_image(image_path):
    image = cv2.imread(image_path)
    if image is None:
        print(f"Failed to read image from {image_path}")
        return None
    resized_image = cv2.resize(image, (400, 400))
    return resized_image

# Fungsi untuk mengonversi gambar ke grayscale dan meningkatkan gambar
def enhance_image(image):
    gray_image = cv2.cvtColor(image, cv2.COLOR_BGR2GRAY)
    equalized_image = cv2.equalizeHist(gray_image)
    blurred_image = cv2.GaussianBlur(equalized_image, (5, 5), 0)
    return blurred_image

# Fungsi untuk menghapus tangkai dengan deteksi kontur
def remove_stem(mask):
    contours, _ = cv2.findContours(mask, cv2.RETR_EXTERNAL, cv2.CHAIN_APPROX_SIMPLE)
    for cnt in contours:
        area = cv2.contourArea(cnt)
        if area < 5000:  # Menggunakan threshold yang lebih besar untuk menghapus tangkai
            cv2.drawContours(mask, [cnt], -1, 0, -1)
    return mask

# Fungsi untuk mengonversi gambar ke HSV dan melakukan segmentasi
def segment_image_hsv(image, cls):
    hsv_image = cv2.cvtColor(image, cv2.COLOR_BGR2HSV)
    
    # Definisikan rentang warna untuk setiap kelas
    if cls == 'matang':
        lower_color = np.array([0, 50, 50])
        upper_color = np.array([10, 255, 255])
        lower_color2 = np.array([170, 50, 50])
        upper_color2 = np.array([180, 255, 255])
        mask1 = cv2.inRange(hsv_image, lower_color, upper_color)
        mask2 = cv2.inRange(hsv_image, lower_color2, upper_color2)
        mask = mask1 + mask2
    elif cls == 'mengkal':
        lower_color = np.array([13, 50, 50])
        upper_color = np.array([45, 255, 255])
        mask = cv2.inRange(hsv_image, lower_color, upper_color)
    elif cls == 'mentah':
        lower_color = np.array([30, 50, 50])
        upper_color = np.array([90, 255, 255])
        mask = cv2.inRange(hsv_image, lower_color, upper_color)
    
    # Morfologi untuk membersihkan noise
    kernel = np.ones((5, 5), np.uint8)
    mask = cv2.morphologyEx(mask, cv2.MORPH_CLOSE, kernel, iterations=3)
    mask = cv2.morphologyEx(mask, cv2.MORPH_OPEN, kernel, iterations=3)
    
    # Menghapus tangkai
    mask = remove_stem(mask)
    
    # Terapkan mask pada gambar asli
    segmented_image = cv2.bitwise_and(image, image, mask=mask)
    
    return segmented_image, mask

# Fungsi untuk mengurangi blur pada gambar
def reduce_blur(image):
    reduced_blur_image = cv2.bilateralFilter(image, d=9, sigmaColor=75, sigmaSpace=75)
    return reduced_blur_image

# Path ke folder dataset
dataset_path = 'C:/skripsi/coding_final/dataset'
classes = ['matang', 'mengkal', 'mentah']

# Proses semua gambar dalam dataset dan tampilkan satu contoh dari setiap kelas
for cls in classes:
    cls_folder = os.path.join(dataset_path, cls)
    images = os.listdir(cls_folder)
    for i, image_name in enumerate(images):
        image_path = os.path.join(cls_folder, image_name)
        image = read_resize_and_display_image(image_path) if i == 0 else cv2.imread(image_path)
        if image is None:
            continue  # Skip this image if it can't be read
        
        resized_image = cv2.resize(image, (400, 400))
        
        # Tambahkan langkah enhance image
        enhanced_image = enhance_image(resized_image)
        
        # Tambahkan langkah pengurangan blur
        reduced_blur_image = reduce_blur(enhanced_image)
        
        # Konversi gambar yang telah di-enhance kembali ke BGR
        enhanced_image_bgr = cv2.cvtColor(reduced_blur_image, cv2.COLOR_GRAY2BGR)
        
        # Segmentasi menggunakan gambar yang telah ditingkatkan
        segmented_image, mask = segment_image_hsv(resized_image, cls)
        segmented_image_hsv = cv2.cvtColor(segmented_image, cv2.COLOR_BGR2HSV)
        
        if i == 0:
            plt.figure(figsize=(15, 10))
            
            plt.subplot(3, 3, 1)
            plt.imshow(cv2.cvtColor(resized_image, cv2.COLOR_BGR2RGB))
            plt.title(f'Original Image\n{image_name}')
            
            plt.subplot(3, 3, 2)
            plt.imshow(enhanced_image, cmap='gray')
            plt.title('Enhanced Image')
            
            plt.subplot(3, 3, 3)
            plt.imshow(reduced_blur_image, cmap='gray')
            plt.title('Blur Reduced Image')
            
            plt.subplot(3, 3, 4)
            plt.imshow(cv2.cvtColor(segmented_image, cv2.COLOR_BGR2RGB))
            plt.title(f'Segmented Image RGB\n{image_name}')
            
            plt.subplot(3, 3, 5)
            plt.imshow(cv2.cvtColor(segmented_image_hsv, cv2.COLOR_BGR2HSV))
            plt.title(f'Segmented Image HSV\n{image_name}')
            
            # plt.subplot(3, 3, 5)
            # colors = ('r', 'g', 'b')
            # for i, color in enumerate(colors):
            #     hist = cv2.calcHist([segmented_image], [i], mask, [256], [0, 256])
            #     plt.plot(hist, color=color)
            #     plt.xlim([0, 256])
            # plt.title('RGB Histogram (Segmented)')
            
            # plt.subplot(3, 3, 8)
            # colors = ('b', 'g', 'r')
            # for i, color in enumerate(colors):
            #     hist = cv2.calcHist([segmented_image_hsv], [i], mask, [256], [0, 256])
            #     plt.plot(hist, color=color)
            #     plt.xlim([0, 256])
            # plt.title('HSV Histogram (Segmented)')
            
            plt.tight_layout()
            plt.show()

        # Simpan hasil segmentasi untuk ekstraksi fitur
        output_path = os.path.join('C:/skripsi/coding_final/segmented_images', cls)
        os.makedirs(output_path, exist_ok=True)
        segmented_image_path = os.path.join(output_path, image_name)
        cv2.imwrite(segmented_image_path, segmented_image)
