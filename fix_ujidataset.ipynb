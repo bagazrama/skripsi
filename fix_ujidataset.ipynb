import cv2
import numpy as np
import pandas as pd
import os

# Fungsi untuk ekstraksi fitur warna RGB
def extract_rgb_features(image):
    mask = cv2.inRange(image, (0, 0, 0), (255, 255, 255))  # Mask untuk menghilangkan background hitam
    masked_image = cv2.bitwise_and(image, image, mask=mask)
    rgb_values = masked_image[mask > 0]
    
    if len(rgb_values) == 0:
        return [0, 0, 0], [0, 0, 0]
    
    mean_color = np.mean(rgb_values, axis=0)
    std_color = np.std(rgb_values, axis=0)
    
    return mean_color, std_color

# Fungsi untuk ekstraksi fitur warna HSV
def extract_hsv_features(image):
    hsv_image = cv2.cvtColor(image, cv2.COLOR_BGR2HSV)
    mask = cv2.inRange(hsv_image, (0, 0, 0), (180, 255, 255))  # Mask untuk menghilangkan background hitam
    masked_image = cv2.bitwise_and(hsv_image, hsv_image, mask=mask)
    hsv_values = masked_image[mask > 0]
    
    if len(hsv_values) == 0:
        return [0, 0, 0], [0, 0, 0]
    
    mean_color = np.mean(hsv_values, axis=0)
    std_color = np.std(hsv_values, axis=0)
    
    return mean_color, std_color

segmented_images_path = 'C:/skripsi/coding_final/uji_segmented_images'
classes = ['matang', 'mengkal', 'mentah']

features_rgb = []
features_hsv = []

for cls in classes:
    cls_folder = os.path.join(segmented_images_path, cls)
    images = os.listdir(cls_folder)
    for image_name in images:
        image_path = os.path.join(cls_folder, image_name)
        image = cv2.imread(image_path)
        if image is None:
            continue
        
        mean_rgb, std_rgb = extract_rgb_features(image)
        features_rgb.append([image_name, cls, *mean_rgb, *std_rgb])
        
        mean_hsv, std_hsv = extract_hsv_features(image)
        features_hsv.append([image_name, cls, *mean_hsv, *std_hsv])

# Buat DataFrame untuk fitur RGB dan simpan ke CSV
columns_rgb = ['Image Name', 'Class', 'Mean_B', 'Mean_G', 'Mean_R', 'Std_B', 'Std_G', 'Std_R']
features_df_rgb = pd.DataFrame(features_rgb, columns=columns_rgb)
output_csv_path_rgb = 'C:/skripsi/coding_final/uji_fitur_warna_tomat_RGB.csv'
features_df_rgb.to_csv(output_csv_path_rgb, index=False)

# Buat DataFrame untuk fitur HSV dan simpan ke CSV
columns_hsv = ['Image Name', 'Class', 'Mean_H', 'Mean_S', 'Mean_V', 'Std_H', 'Std_S', 'Std_V']
features_df_hsv = pd.DataFrame(features_hsv, columns=columns_hsv)
output_csv_path_hsv = 'C:/skripsi/coding_final/uji_fitur_warna_tomat_HSV.csv'
features_df_hsv.to_csv(output_csv_path_hsv, index=False)

print(f"Fitur warna RGB telah diekstraksi dan disimpan ke {output_csv_path_rgb}")
print(f"Fitur warna HSV telah diekstraksi dan disimpan ke {output_csv_path_hsv}")
